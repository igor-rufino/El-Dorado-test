{
 "cells": [
  {
   "cell_type": "markdown",
   "metadata": {},
   "source": [
    "# Desafio 3 - Modelagem\n",
    "\n",
    "A PagShow é uma casa de eventos muito famosa em São Paulo. \n",
    "\n",
    "Os clientes compram os ingressos pelo site da PagShow e recebem um QR Code que será usado em catracas para liberar o acesso.\n",
    "\n",
    "Quando os clientes passam pelas catracas, são capturados dados dos clientes e eventos conforme a tabela ACESSOS_CATRACA.\n",
    "\n",
    "(Schema e Sample abaixo)."
   ]
  },
  {
   "cell_type": "markdown",
   "metadata": {},
   "source": [
    "**Schema**\n",
    "\n",
    "`ACESSOS_CATRACA`\n",
    "| Name | Type | Description |\n",
    "|------|------|-------------|\n",
    "| evento_nome | Varchar | Nome do Evento |\n",
    "| evento_inicio | Timestamp | Data de Início do Evento |\n",
    "| artista_nome | Varchar | Nome do Artista do Evento |\n",
    "| cliente_nome | Varchar | Nome do Cliente |\n",
    "| cliente_cpf | Varchar | CPF do Cliente |\n",
    "| cliente_telefone | Varchar | Telefone do Cliente |\n",
    "| cliente_entrada | Timestamp | Data e Hora que o cliente chegou ao evento |\n",
    "\n",
    "**Sample**\n",
    "\n",
    "| evento nome | evento Inlclo | artista nome | cliente nome | cliente | ciente telefone | ciente entrada |\n",
    "|-|-|-|-|-|-|-|\n",
    "| Funn Festival | 01/04/2023 22:00 | Bruno & Mamone | Lucas | 111.111.111-11 | 5513992123212 | 01/04/2023 22:43 | \n",
    "| Fuzuê | 02/04/2023 22:00 | Michel Teló | Pedro | 222.222.222-22 | 5511982332556 | 02/04/2023 22:31 |\n",
    "| Comédia Stand Up | 03/04/2023 22:00 | Fábio Rabin | Leonardo | 333.333.333-33 | 5513991857732 | 03/04/2023 22:12 |\n",
    "| Fuzuê|  04/04/2023 22:00 | Michel Teló | Vivian | 444.444.444-44 | 5521997889889 | 04/04/2023 22:01 |\n",
    "| 2 Minutes To Midnight | 05/04/2023 22:00 | Iron Maiden | Anne | 555.555.555-55 | 5511988272121 | 05/04/2023 22:21 |\n",
    "| Comédia Stand Up | 03/04/2023 22:00 | Fábio Rabin | Lucas | 111.111.111-11 | 5513992123212 | 03/04/2023 22:04 |\n",
    "| 2 Minutes To Midnight | 07/04/2023 22:00 | Iron Maiden | Rodrigo | 666.666.666-66 | 5511945311288 | 07/04/2023 22:06 |\n",
    "| Funn Festival | 01/04/2023 22:00 | Bruno & Marrone | Pedro | 222.222.222-22 | 5511982332556 | 01/04/2023 22:40 |\n",
    "| Oceano | 09/04/2023 22:00 | Djavan | Suellen | 777.777.777-77 | 5521991012434 | 09/04/2023 23:06 |\n"
   ]
  },
  {
   "cell_type": "markdown",
   "metadata": {},
   "source": [
    "1. Faça graficamente uma modelagem dimensional considerando a tabela acima e seus\n",
    "respectivos dados.\n",
    "    1. Obs: Caso precise inferir alguma informação, deixe claro quais foram os\n",
    "pontos inferidos.\n",
    "2. Após a modelagem finalizada, elabore consultas SQL, que responda as perguntas\n",
    "abaixo utilizando o modelo criado:\n",
    "    1. Quantas pessoas chegaram após o horário de início de cada evento?\n",
    "    2. Quantos eventos aconteceram no dia de sábado?"
   ]
  },
  {
   "cell_type": "markdown",
   "metadata": {},
   "source": [
    "## Modelagem"
   ]
  },
  {
   "cell_type": "markdown",
   "metadata": {},
   "source": [
    "![Diagrama](star_schema.png \"Modelagem em diagrama\")"
   ]
  },
  {
   "cell_type": "markdown",
   "metadata": {},
   "source": [
    "### Tabelas e Campos:\n",
    "\n",
    "`Dim_Evento`\n",
    "\n",
    "Tabela que armazena informações sobre os eventos.\n",
    "\n",
    "**Campos:**\n",
    "- evento_nome: Nome do evento (chave primária).\n",
    "- evento_inicio: Data e hora de início do evento (armazenada no formato ISO 8601).\n",
    "- artista_nome: Nome do artista que se apresenta no evento.\n",
    "\n",
    "`Dim_Cliente`\n",
    "\n",
    "Tabela que contém informações dos clientes.\n",
    "\n",
    "**Campos:**\n",
    "- cliente_cpf: CPF do cliente (chave primária).\n",
    "- cliente_nome: Nome do cliente.\n",
    "- cliente_telefone: Número de telefone do cliente.\n",
    "\n",
    "`Dim_Data_Hora`\n",
    "\n",
    "Tabela auxiliar para armazenar detalhes de data e hora relacionados aos eventos.\n",
    "\n",
    "**Campos:**\n",
    "- cliente_entrada: Data e hora de entrada do cliente no evento (chave primária).\n",
    "- data: Parte da data (dia, mês e ano) da cliente_entrada.\n",
    "- hora: Parte da hora (hora e minuto) da cliente_entrada.\n",
    "\n",
    "`Fato_Acessos_Catraca`\n",
    "\n",
    "Tabela de fatos que registra os acessos dos clientes aos eventos através das catracas.\n",
    "\n",
    "**Campos:**\n",
    "- evento_nome: Nome do evento (chave estrangeira referenciando Dim_Evento).\n",
    "- cliente_cpf: CPF do cliente (chave estrangeira referenciando Dim_Cliente).\n",
    "- cliente_entrada: Data e hora de entrada do cliente no evento (chave estrangeira referenciando Dim_Data_Hora).\n",
    "\n",
    "\n",
    "**Onde:**\n",
    "- Os campos evento_nome, evento_inicio, artista_nome, cliente_nome, cliente_cpf, cliente_telefone e cliente_entrada foram todos diretamente fornecidos na tabela sample.\n",
    "- As tabelas Dim_Evento, Dim_Cliente, Dim_Data_Hora e Fato_Acessos_Catraca foram estruturadas com base nas informações diretamente disponíveis na tabela sample."
   ]
  },
  {
   "cell_type": "markdown",
   "metadata": {},
   "source": [
    "> SQLite does not have a storage class set aside for storing dates and/or times. Instead, the built-in Date And Time Functions of SQLite are capable of storing dates and times as TEXT, REAL, or INTEGER values: TEXT as ISO8601 strings (\"YYYY-MM-DD HH:MM:SS.SSS\"). [Referência](https://www.sqlite.org/datatype3.html)."
   ]
  },
  {
   "cell_type": "markdown",
   "metadata": {},
   "source": [
    "## Consultas SQL"
   ]
  },
  {
   "cell_type": "markdown",
   "metadata": {},
   "source": [
    "### Inicialização do banco de dados"
   ]
  },
  {
   "cell_type": "code",
   "execution_count": 1,
   "metadata": {},
   "outputs": [],
   "source": [
    "import sqlite3\n",
    "import pandas as pd\n",
    "from datetime import datetime\n",
    "\n",
    "def create_connection(db_file):\n",
    "    conn = None\n",
    "    try:\n",
    "        conn = sqlite3.connect(db_file)\n",
    "        return conn\n",
    "    except sqlite3.Error as e:\n",
    "        print(e)\n",
    "    return conn\n",
    "\n",
    "db_name = \"pagshow.db\"\n",
    "conn = create_connection(db_name)\n",
    "cursor = conn.cursor()"
   ]
  },
  {
   "cell_type": "markdown",
   "metadata": {},
   "source": [
    "### Criação das tabelas"
   ]
  },
  {
   "cell_type": "code",
   "execution_count": 2,
   "metadata": {},
   "outputs": [],
   "source": [
    "table_names = [\"Dim_Evento\", \"Dim_Cliente\", \"Dim_Data_Hora\", \"Fato_Acessos_Catraca\"]\n",
    "\n",
    "for table_name in table_names:\n",
    "    try:\n",
    "        cursor.execute(f\"DROP TABLE IF EXISTS {table_name}\")\n",
    "    except sqlite3.OperationalError as e:\n",
    "        print(f\"Error dropping table '{table_name}': {e}\")"
   ]
  },
  {
   "cell_type": "code",
   "execution_count": 3,
   "metadata": {},
   "outputs": [],
   "source": [
    "create_tables = [\n",
    "    \"\"\"\n",
    "    CREATE TABLE IF NOT EXISTS Dim_Evento (\n",
    "        evento_nome VARCHAR PRIMARY KEY,\n",
    "        evento_inicio TEXT,\n",
    "        artista_nome VARCHAR\n",
    "    )\n",
    "    \"\"\",\n",
    "    \"\"\"\n",
    "    CREATE TABLE IF NOT EXISTS Dim_Cliente (\n",
    "        cliente_cpf VARCHAR PRIMARY KEY,\n",
    "        cliente_nome VARCHAR,\n",
    "        cliente_telefone VARCHAR\n",
    "    )\n",
    "    \"\"\",\n",
    "    \"\"\"\n",
    "    CREATE TABLE IF NOT EXISTS Dim_Data_Hora (\n",
    "        cliente_entrada TEXT PRIMARY KEY,\n",
    "        data TEXT,\n",
    "        hora TEXT\n",
    "    )\n",
    "    \"\"\",\n",
    "    \"\"\"\n",
    "    CREATE TABLE IF NOT EXISTS Fato_Acessos_Catraca (\n",
    "        evento_nome VARCHAR,\n",
    "        cliente_cpf VARCHAR,\n",
    "        cliente_entrada TEXT,\n",
    "        FOREIGN KEY (evento_nome) REFERENCES Dim_Evento(evento_nome),\n",
    "        FOREIGN KEY (cliente_cpf) REFERENCES Dim_Cliente(cliente_cpf),\n",
    "        FOREIGN KEY (cliente_entrada) REFERENCES Dim_Data_Hora(cliente_entrada)\n",
    "    )\n",
    "    \"\"\"\n",
    "]\n",
    "\n",
    "for table in create_tables:\n",
    "    cursor.execute(table)"
   ]
  },
  {
   "cell_type": "code",
   "execution_count": 4,
   "metadata": {},
   "outputs": [
    {
     "name": "stdout",
     "output_type": "stream",
     "text": [
      "Table: Dim_Evento\n",
      "(0, 'evento_nome', 'VARCHAR', 0, None, 1)\n",
      "(1, 'evento_inicio', 'TEXT', 0, None, 0)\n",
      "(2, 'artista_nome', 'VARCHAR', 0, None, 0)\n",
      "\n",
      "\n",
      "Table: Dim_Cliente\n",
      "(0, 'cliente_cpf', 'VARCHAR', 0, None, 1)\n",
      "(1, 'cliente_nome', 'VARCHAR', 0, None, 0)\n",
      "(2, 'cliente_telefone', 'VARCHAR', 0, None, 0)\n",
      "\n",
      "\n",
      "Table: Dim_Data_Hora\n",
      "(0, 'cliente_entrada', 'TEXT', 0, None, 1)\n",
      "(1, 'data', 'TEXT', 0, None, 0)\n",
      "(2, 'hora', 'TEXT', 0, None, 0)\n",
      "\n",
      "\n",
      "Table: Fato_Acessos_Catraca\n",
      "(0, 'evento_nome', 'VARCHAR', 0, None, 0)\n",
      "(1, 'cliente_cpf', 'VARCHAR', 0, None, 0)\n",
      "(2, 'cliente_entrada', 'TEXT', 0, None, 0)\n",
      "\n",
      "\n"
     ]
    }
   ],
   "source": [
    "for table_name in table_names:\n",
    "    print(f\"Table: {table_name}\")\n",
    "    cursor.execute(f\"PRAGMA table_info('{table_name}')\")\n",
    "    for row in cursor.fetchall():\n",
    "        print(row)\n",
    "    print(\"\\n\")"
   ]
  },
  {
   "cell_type": "markdown",
   "metadata": {},
   "source": [
    "### Inserção de dados"
   ]
  },
  {
   "cell_type": "code",
   "execution_count": 5,
   "metadata": {},
   "outputs": [],
   "source": [
    "data = [\n",
    "    (\"Funn Festival\", \"01/04/2023 22:00\", \"Bruno & Mamone\", \"Lucas\", \"111.111.111-11\", \"5513992123212\", \"01/04/2023 22:43\"),\n",
    "    (\"Fuzuê\", \"02/04/2023 22:00\", \"Michel Teló\", \"Pedro\", \"222.222.222-22\", \"5511982332556\", \"02/04/2023 22:31\"),\n",
    "    (\"Comédia Stand Up\", \"03/04/2023 22:00\", \"Fábio Rabin\", \"Leonardo\", \"333.333.333-33\", \"5513991857732\", \"03/04/2023 22:12\"),\n",
    "    (\"Fuzuê\", \"04/04/2023 22:00\", \"Michel Teló\", \"Vivian\", \"444.444.444-44\", \"5521997889889\", \"04/04/2023 22:01\"),\n",
    "    (\"2 Minutes To Midnight\", \"05/04/2023 22:00\", \"Iron Maiden\", \"Anne\", \"555.555.555-55\", \"5511988272121\", \"05/04/2023 22:21\"),\n",
    "    (\"Comédia Stand Up\", \"03/04/2023 22:00\", \"Fábio Rabin\", \"Lucas\", \"111.111.111-11\", \"5513992123212\", \"03/04/2023 22:04\"),\n",
    "    (\"2 Minutes To Midnight\", \"07/04/2023 22:00\", \"Iron Maiden\", \"Rodrigo\", \"666.666.666-66\", \"5511945311288\", \"07/04/2023 22:06\"),\n",
    "    (\"Funn Festival\", \"01/04/2023 22:00\", \"Bruno & Marrone\", \"Pedro\", \"222.222.222-22\", \"5511982332556\", \"01/04/2023 22:40\"),\n",
    "    (\"Oceano\", \"09/04/2023 22:00\", \"Djavan\", \"Suellen\", \"777.777.777-77\", \"5521991012434\", \"09/04/2023 23:06\")\n",
    "]"
   ]
  },
  {
   "cell_type": "code",
   "execution_count": 6,
   "metadata": {},
   "outputs": [],
   "source": [
    "def insert_data(conn, table_name, data):\n",
    "    try:\n",
    "        sql = f\"INSERT INTO {table_name} VALUES ({','.join(['?']*len(data))})\"\n",
    "        c = conn.cursor()\n",
    "        c.execute(sql, data)\n",
    "    except sqlite3.IntegrityError as e:\n",
    "        if \"UNIQUE constraint failed\" in str(e):\n",
    "            pass\n",
    "        else:\n",
    "            print(e)\n",
    "\n",
    "\n",
    "for d in data:\n",
    "    evento_inicio = datetime.strptime(d[1], \"%d/%m/%Y %H:%M\").strftime('%Y-%m-%d %H:%M:%S')\n",
    "    insert_data(conn, \"Dim_Evento\", [d[0], evento_inicio, d[2]])\n",
    "    \n",
    "    insert_data(conn, \"Dim_Cliente\", [d[4], d[3], d[5]])\n",
    "    \n",
    "    data_hora = datetime.strptime(d[6], \"%d/%m/%Y %H:%M\").strftime('%Y-%m-%d %H:%M:%S')\n",
    "    insert_data(conn, \"Dim_Data_Hora\", [data_hora, data_hora.split()[0], data_hora.split()[1]])\n",
    "    \n",
    "    insert_data(conn, \"Fato_Acessos_Catraca\", [d[0], d[4], data_hora])\n",
    "\n",
    "conn.commit()"
   ]
  },
  {
   "cell_type": "code",
   "execution_count": 7,
   "metadata": {},
   "outputs": [
    {
     "name": "stdout",
     "output_type": "stream",
     "text": [
      "Table: Dim_Evento\n",
      "('Funn Festival', '2023-04-01 22:00:00', 'Bruno & Mamone')\n",
      "('Fuzuê', '2023-04-02 22:00:00', 'Michel Teló')\n",
      "('Comédia Stand Up', '2023-04-03 22:00:00', 'Fábio Rabin')\n",
      "('2 Minutes To Midnight', '2023-04-05 22:00:00', 'Iron Maiden')\n",
      "('Oceano', '2023-04-09 22:00:00', 'Djavan')\n",
      "\n",
      "\n",
      "Table: Dim_Cliente\n",
      "('111.111.111-11', 'Lucas', '5513992123212')\n",
      "('222.222.222-22', 'Pedro', '5511982332556')\n",
      "('333.333.333-33', 'Leonardo', '5513991857732')\n",
      "('444.444.444-44', 'Vivian', '5521997889889')\n",
      "('555.555.555-55', 'Anne', '5511988272121')\n",
      "('666.666.666-66', 'Rodrigo', '5511945311288')\n",
      "('777.777.777-77', 'Suellen', '5521991012434')\n",
      "\n",
      "\n",
      "Table: Dim_Data_Hora\n",
      "('2023-04-01 22:43:00', '2023-04-01', '22:43:00')\n",
      "('2023-04-02 22:31:00', '2023-04-02', '22:31:00')\n",
      "('2023-04-03 22:12:00', '2023-04-03', '22:12:00')\n",
      "('2023-04-04 22:01:00', '2023-04-04', '22:01:00')\n",
      "('2023-04-05 22:21:00', '2023-04-05', '22:21:00')\n",
      "('2023-04-03 22:04:00', '2023-04-03', '22:04:00')\n",
      "('2023-04-07 22:06:00', '2023-04-07', '22:06:00')\n",
      "('2023-04-01 22:40:00', '2023-04-01', '22:40:00')\n",
      "('2023-04-09 23:06:00', '2023-04-09', '23:06:00')\n",
      "\n",
      "\n",
      "Table: Fato_Acessos_Catraca\n",
      "('Funn Festival', '111.111.111-11', '2023-04-01 22:43:00')\n",
      "('Fuzuê', '222.222.222-22', '2023-04-02 22:31:00')\n",
      "('Comédia Stand Up', '333.333.333-33', '2023-04-03 22:12:00')\n",
      "('Fuzuê', '444.444.444-44', '2023-04-04 22:01:00')\n",
      "('2 Minutes To Midnight', '555.555.555-55', '2023-04-05 22:21:00')\n",
      "('Comédia Stand Up', '111.111.111-11', '2023-04-03 22:04:00')\n",
      "('2 Minutes To Midnight', '666.666.666-66', '2023-04-07 22:06:00')\n",
      "('Funn Festival', '222.222.222-22', '2023-04-01 22:40:00')\n",
      "('Oceano', '777.777.777-77', '2023-04-09 23:06:00')\n",
      "\n",
      "\n"
     ]
    }
   ],
   "source": [
    "for table_name in table_names:\n",
    "    print(f\"Table: {table_name}\")\n",
    "    cursor.execute(f\"SELECT * FROM {table_name}\")\n",
    "    for row in cursor.fetchall():\n",
    "        print(row)\n",
    "    print(\"\\n\")"
   ]
  },
  {
   "cell_type": "markdown",
   "metadata": {},
   "source": [
    "### Consultas"
   ]
  },
  {
   "cell_type": "code",
   "execution_count": 8,
   "metadata": {},
   "outputs": [
    {
     "name": "stdout",
     "output_type": "stream",
     "text": [
      "Consulta A: Quantas pessoas chegaram após o horário de início de cada evento?\n",
      "             evento_nome  pessoas_atrasadas\n",
      "0  2 Minutes To Midnight                  2\n",
      "1       Comédia Stand Up                  2\n",
      "2          Funn Festival                  2\n",
      "3                  Fuzuê                  2\n",
      "4                 Oceano                  1\n"
     ]
    }
   ],
   "source": [
    "query_a = \"\"\"\n",
    "SELECT \n",
    "    e.evento_nome,\n",
    "    COUNT(*) AS pessoas_atrasadas\n",
    "FROM \n",
    "    Fato_Acessos_Catraca fac\n",
    "JOIN \n",
    "    Dim_Evento e ON fac.evento_nome = e.evento_nome\n",
    "JOIN \n",
    "    Dim_Data_Hora dh ON fac.cliente_entrada = dh.cliente_entrada\n",
    "WHERE \n",
    "    dh.hora > e.evento_inicio\n",
    "GROUP BY \n",
    "    e.evento_nome;\n",
    "\"\"\"\n",
    "\n",
    "print(\"Consulta A: Quantas pessoas chegaram após o horário de início de cada evento?\")\n",
    "cursor.execute(query_a)\n",
    "results = cursor.fetchall()\n",
    "\n",
    "pd.set_option('display.expand_frame_repr', False)\n",
    "df = pd.DataFrame(results, columns=[\"evento_nome\", \"pessoas_atrasadas\"])\n",
    "print(df)"
   ]
  },
  {
   "cell_type": "code",
   "execution_count": 9,
   "metadata": {},
   "outputs": [
    {
     "name": "stdout",
     "output_type": "stream",
     "text": [
      "Consulta B: Quantos eventos aconteceram no dia de sábado?\n",
      "   eventos_no_sabado\n",
      "0                  1\n"
     ]
    }
   ],
   "source": [
    "query_b = \"\"\"\n",
    "SELECT \n",
    "    COUNT(DISTINCT evento_nome) AS eventos_no_sabado\n",
    "FROM \n",
    "    Dim_Evento\n",
    "WHERE \n",
    "    strftime('%w', evento_inicio) = '6';\n",
    "\"\"\"\n",
    "\n",
    "print(\"Consulta B: Quantos eventos aconteceram no dia de sábado?\")\n",
    "cursor.execute(query_b)\n",
    "results = cursor.fetchall()\n",
    "\n",
    "pd.set_option('display.expand_frame_repr', False)\n",
    "df = pd.DataFrame(results, columns=[\"eventos_no_sabado\"])\n",
    "print(df)"
   ]
  },
  {
   "cell_type": "code",
   "execution_count": 10,
   "metadata": {},
   "outputs": [],
   "source": [
    "conn.close()"
   ]
  }
 ],
 "metadata": {
  "kernelspec": {
   "display_name": "Python 3",
   "language": "python",
   "name": "python3"
  },
  "language_info": {
   "codemirror_mode": {
    "name": "ipython",
    "version": 3
   },
   "file_extension": ".py",
   "mimetype": "text/x-python",
   "name": "python",
   "nbconvert_exporter": "python",
   "pygments_lexer": "ipython3",
   "version": "3.11.2"
  }
 },
 "nbformat": 4,
 "nbformat_minor": 2
}
