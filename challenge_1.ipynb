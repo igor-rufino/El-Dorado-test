{
 "cells": [
  {
   "cell_type": "markdown",
   "metadata": {},
   "source": [
    "# Desafio 1 - SQL\n",
    "\n",
    "Dado um banco de dados de votos ganhos por diferentes candidatos em uma eleição, encontre o número de votos ganhos por candidatas do sexo feminino cuja idade é inferior a 50 anos."
   ]
  },
  {
   "cell_type": "markdown",
   "metadata": {},
   "source": [
    "São Duas Tabelas Cantidates e Results\n",
    "\n",
    "**Schemas**:\n",
    "\n",
    "`Candidates`\n",
    "\n",
    "| Name | Type | Description|\n",
    "| ---- | ---- | -----------|\n",
    "| id | INTEGER | It is the primary key.|\n",
    "| gender | STRING | The gender of the candidate.|\n",
    "| age | INTEGER | Age of the candidate.|\n",
    "| party | STRING | The party to which the candidate belongs.|\n",
    "\n",
    "`Results`\n",
    "\n",
    "| Name | Type | Description|\n",
    "| ---- | ---- | -----------|\n",
    "| constituency_id | INTEGER | It is the constituency to which the candidate is contesting from.|\n",
    "| candidate_id | INTEGER | It is the primary key.|\n",
    "| votes | INTEGER | The number of votes won by the candidate.|\n",
    "\n",
    "**Dados da Tabela**\n",
    "\n",
    "`Candidates`\n",
    "\n",
    "| id | gender | age | party |\n",
    "|----|--------|-----|-------|\n",
    "| 1 | M | 55 |Democratic |\n",
    "| 2 | M | 51 |Democratic |\n",
    "| 3 | F | 49 |Democratic |\n",
    "| 4 | M | 60 |Republic |\n",
    "| 5 | F | 61 |Republic |\n",
    "| 6 | F | 48 |Republic |\n",
    "\n",
    "`Results`\n",
    "| constituency_id | candidate_id | votes |\n",
    "|-----------------|--------------|-------|\n",
    "| 1 | 1 | 847529 | \n",
    "| 1 | 4 | 283409 | \n",
    "| 2 | 2 | 293841 | \n",
    "| 2 | 5 | 394385 | \n",
    "| 3 | 3 | 429084 | \n",
    "| 3 | 6 | 303890 | "
   ]
  },
  {
   "cell_type": "markdown",
   "metadata": {},
   "source": [
    "## Inicialização do banco de dados"
   ]
  },
  {
   "cell_type": "code",
   "execution_count": 1,
   "metadata": {},
   "outputs": [],
   "source": [
    "import sqlite3\n",
    "\n",
    "def create_connection(db_file):\n",
    "    conn = None\n",
    "    try:\n",
    "        conn = sqlite3.connect(db_file)\n",
    "        return conn\n",
    "    except sqlite3.Error as e:\n",
    "        print(e)\n",
    "    return conn\n",
    "\n",
    "db_name = \"election.db\"\n",
    "conn = create_connection(db_name)\n",
    "cursor = conn.cursor()"
   ]
  },
  {
   "cell_type": "markdown",
   "metadata": {},
   "source": [
    "## Criação das tabelas"
   ]
  },
  {
   "cell_type": "code",
   "execution_count": 2,
   "metadata": {},
   "outputs": [],
   "source": [
    "table_names = [\"Candidates\", \"Results\"]\n",
    "\n",
    "for table_name in table_names:\n",
    "    try:\n",
    "        cursor.execute(f\"DROP TABLE IF EXISTS {table_name}\")\n",
    "    except sqlite3.OperationalError as e:\n",
    "        print(f\"Error dropping table '{table_name}': {e}\")"
   ]
  },
  {
   "cell_type": "code",
   "execution_count": 3,
   "metadata": {},
   "outputs": [],
   "source": [
    "cursor.execute('''\n",
    "CREATE TABLE Candidates (\n",
    "    id INTEGER PRIMARY KEY,\n",
    "    gender TEXT,\n",
    "    age INTEGER,\n",
    "    party TEXT\n",
    ")\n",
    "''')\n",
    "\n",
    "cursor.execute('''\n",
    "CREATE TABLE Results (\n",
    "    constituency_id INTEGER,\n",
    "    candidate_id INTEGER,\n",
    "    votes INTEGER,\n",
    "    PRIMARY KEY (constituency_id, candidate_id)\n",
    ")\n",
    "''')\n",
    "\n",
    "conn.commit()"
   ]
  },
  {
   "cell_type": "code",
   "execution_count": 4,
   "metadata": {},
   "outputs": [
    {
     "name": "stdout",
     "output_type": "stream",
     "text": [
      "Table: Candidates\n",
      "(0, 'id', 'INTEGER', 0, None, 1)\n",
      "(1, 'gender', 'TEXT', 0, None, 0)\n",
      "(2, 'age', 'INTEGER', 0, None, 0)\n",
      "(3, 'party', 'TEXT', 0, None, 0)\n",
      "\n",
      "\n",
      "Table: Results\n",
      "(0, 'constituency_id', 'INTEGER', 0, None, 1)\n",
      "(1, 'candidate_id', 'INTEGER', 0, None, 2)\n",
      "(2, 'votes', 'INTEGER', 0, None, 0)\n",
      "\n",
      "\n"
     ]
    }
   ],
   "source": [
    "for table_name in table_names:\n",
    "    print(f\"Table: {table_name}\")\n",
    "    cursor.execute(f\"PRAGMA table_info('{table_name}')\")\n",
    "    for row in cursor.fetchall():\n",
    "        print(row)\n",
    "    print(\"\\n\")"
   ]
  },
  {
   "cell_type": "markdown",
   "metadata": {},
   "source": [
    "## Inserção de dados"
   ]
  },
  {
   "cell_type": "code",
   "execution_count": 5,
   "metadata": {},
   "outputs": [],
   "source": [
    "candidates_data = [\n",
    "    (1, 'M', 55, 'Democratic'),\n",
    "    (2, 'M', 51, 'Democratic'),\n",
    "    (3, 'F', 49, 'Democratic'),\n",
    "    (4, 'M', 60, 'Republic'),\n",
    "    (5, 'F', 61, 'Republic'),\n",
    "    (6, 'F', 48, 'Republic')\n",
    "]\n",
    "\n",
    "cursor.executemany('''\n",
    "INSERT INTO Candidates (id, gender, age, party)\n",
    "VALUES (?, ?, ?, ?)\n",
    "''', candidates_data)\n",
    "\n",
    "results_data = [\n",
    "    (1, 1, 847529),\n",
    "    (4, 2, 283409),\n",
    "    (3, 3, 293841),\n",
    "    (2, 5, 394385),\n",
    "    (3, 4, 429084),\n",
    "    (6, 6, 303890)\n",
    "]\n",
    "\n",
    "cursor.executemany('''\n",
    "INSERT INTO Results (constituency_id, candidate_id, votes)\n",
    "VALUES (?, ?, ?)\n",
    "''', results_data)\n",
    "\n",
    "conn.commit()\n"
   ]
  },
  {
   "cell_type": "code",
   "execution_count": 6,
   "metadata": {},
   "outputs": [
    {
     "name": "stdout",
     "output_type": "stream",
     "text": [
      "Table: Candidates\n",
      "(1, 'M', 55, 'Democratic')\n",
      "(2, 'M', 51, 'Democratic')\n",
      "(3, 'F', 49, 'Democratic')\n",
      "(4, 'M', 60, 'Republic')\n",
      "(5, 'F', 61, 'Republic')\n",
      "(6, 'F', 48, 'Republic')\n",
      "\n",
      "\n",
      "Table: Results\n",
      "(1, 1, 847529)\n",
      "(4, 2, 283409)\n",
      "(3, 3, 293841)\n",
      "(2, 5, 394385)\n",
      "(3, 4, 429084)\n",
      "(6, 6, 303890)\n",
      "\n",
      "\n"
     ]
    }
   ],
   "source": [
    "for table_name in table_names:\n",
    "    print(f\"Table: {table_name}\")\n",
    "    cursor.execute(f\"SELECT * FROM {table_name}\")\n",
    "    for row in cursor.fetchall():\n",
    "        print(row)\n",
    "    print(\"\\n\")"
   ]
  },
  {
   "cell_type": "markdown",
   "metadata": {},
   "source": [
    "## Consulta"
   ]
  },
  {
   "cell_type": "code",
   "execution_count": 7,
   "metadata": {},
   "outputs": [
    {
     "name": "stdout",
     "output_type": "stream",
     "text": [
      "Total de votos ganhos por candidatas do sexo feminino com menos de 50 anos: 597731\n"
     ]
    }
   ],
   "source": [
    "query = '''\n",
    "SELECT SUM(R.votes) AS total_votes\n",
    "FROM Candidates C\n",
    "JOIN Results R ON C.id = R.candidate_id\n",
    "WHERE C.gender = 'F' AND C.age < 50\n",
    "'''\n",
    "\n",
    "cursor.execute(query)\n",
    "result = cursor.fetchone()\n",
    "\n",
    "print(f\"Total de votos ganhos por candidatas do sexo feminino com menos de 50 anos: {result[0]}\")\n"
   ]
  },
  {
   "cell_type": "code",
   "execution_count": 8,
   "metadata": {},
   "outputs": [],
   "source": [
    "conn.close()"
   ]
  }
 ],
 "metadata": {
  "kernelspec": {
   "display_name": "Python 3",
   "language": "python",
   "name": "python3"
  },
  "language_info": {
   "codemirror_mode": {
    "name": "ipython",
    "version": 3
   },
   "file_extension": ".py",
   "mimetype": "text/x-python",
   "name": "python",
   "nbconvert_exporter": "python",
   "pygments_lexer": "ipython3",
   "version": "3.11.2"
  }
 },
 "nbformat": 4,
 "nbformat_minor": 2
}
