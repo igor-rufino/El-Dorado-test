{
 "cells": [
  {
   "cell_type": "markdown",
   "metadata": {},
   "source": [
    "# Desafio 2 - SQL\n",
    "\n",
    "Uma universidade realiza uma competição em que alunos de diferentes escolas participam. As\n",
    "categorias são Concurso Caribou, Debate, Feira de Ciências do Google, RoboCup e\n",
    "Soletração. Os alunos participam de uma ou mais categorias e são pontuados de 0 a 100.\n",
    "\n",
    "Escreva uma consulta que retorne os vencedores do 1º, 2º e 3º lugares em cada categoria.\n",
    "Para determinar sua posição dentro de uma categoria, classifique as linhas primeiro por\n",
    "pontuação decrescente e depois por nome da faculdade em ordem crescente. Ao relatar os\n",
    "vencedores, classifique as linhas primeiro por categoria, em ordem crescente, e depois por\n",
    "pontuação decrescente. As colunas a serem exibidas são categoria, student_id, nome,\n",
    "nome_da_faculdade e pontuação."
   ]
  },
  {
   "cell_type": "markdown",
   "metadata": {},
   "source": [
    "`STUDENTS`\n",
    "\n",
    "| id | name | college_name |\n",
    "|----|------|--------------|\n",
    "| 1352 | Howard Fields | University of California, Davis |\n",
    "| 1801 | Tyrone Doyle | Santa Clara University |\n",
    "| 2079 | Albert Burgess | Yale University |\n",
    "| 2616 | Patrick Hum | Bryn Mawr College |\n",
    "| 3920 | Diana Hum | Yale University |\n",
    "| 4226 | Eugene Rogers | Dartmouth College |\n",
    "\n",
    "`PARTICIPATIONS`\n",
    "\n",
    "| participant_id | student_id | category | score |\n",
    "|----------------|------------|----------|-------|\n",
    "| 11853 | 5746 | Caribou Contest | 92 |\n",
    "| 12114 | 2616 | Spelling Bee | 38 |\n",
    "| 12267 | 2079 | Debate | 55 |\n",
    "| 14036 | 2079 | Google Science Fair | 33 |\n",
    "| 14149 | 1801 | Google Science Fair | 87 |\n",
    "| 19674 | 6698 | RoboCup | 89 |\n",
    "| 20679 | 5746 | RoboCup | 98 |\n",
    "| 20718 | 8721 | Caribou Contest | 66 |\n",
    "| 20847 | 2616 | Caribou Contest | 64 |"
   ]
  },
  {
   "cell_type": "markdown",
   "metadata": {},
   "source": [
    "## Inicialização do banco de dados"
   ]
  },
  {
   "cell_type": "code",
   "execution_count": 1,
   "metadata": {},
   "outputs": [],
   "source": [
    "import sqlite3\n",
    "\n",
    "def create_connection(db_file):\n",
    "    conn = None\n",
    "    try:\n",
    "        conn = sqlite3.connect(db_file)\n",
    "        return conn\n",
    "    except sqlite3.Error as e:\n",
    "        print(e)\n",
    "    return conn\n",
    "\n",
    "db_name = \"competition.db\"\n",
    "conn = create_connection(db_name)\n",
    "cursor = conn.cursor()"
   ]
  },
  {
   "cell_type": "markdown",
   "metadata": {},
   "source": [
    "## Criação das tabelas"
   ]
  },
  {
   "cell_type": "code",
   "execution_count": 2,
   "metadata": {},
   "outputs": [],
   "source": [
    "table_names = [\"Students\", \"Participations\"]\n",
    "\n",
    "for table_name in table_names:\n",
    "    try:\n",
    "        cursor.execute(f\"DROP TABLE IF EXISTS {table_name}\")\n",
    "    except sqlite3.OperationalError as e:\n",
    "        print(f\"Error dropping table '{table_name}': {e}\")"
   ]
  },
  {
   "cell_type": "code",
   "execution_count": 3,
   "metadata": {},
   "outputs": [],
   "source": [
    "cursor.execute('''\n",
    "CREATE TABLE Students (\n",
    "    id INTEGER PRIMARY KEY,\n",
    "    name TEXT,\n",
    "    college_name TEXT\n",
    ")\n",
    "''')\n",
    "\n",
    "cursor.execute('''\n",
    "CREATE TABLE Participations (\n",
    "    participant_id INTEGER PRIMARY KEY,\n",
    "    student_id INTEGER,\n",
    "    category TEXT,\n",
    "    score INTEGER,\n",
    "    FOREIGN KEY (student_id) REFERENCES Students(id)\n",
    ")\n",
    "''')\n",
    "\n",
    "conn.commit()\n"
   ]
  },
  {
   "cell_type": "code",
   "execution_count": 4,
   "metadata": {},
   "outputs": [
    {
     "name": "stdout",
     "output_type": "stream",
     "text": [
      "Table: Students\n",
      "(0, 'id', 'INTEGER', 0, None, 1)\n",
      "(1, 'name', 'TEXT', 0, None, 0)\n",
      "(2, 'college_name', 'TEXT', 0, None, 0)\n",
      "\n",
      "\n",
      "Table: Participations\n",
      "(0, 'participant_id', 'INTEGER', 0, None, 1)\n",
      "(1, 'student_id', 'INTEGER', 0, None, 0)\n",
      "(2, 'category', 'TEXT', 0, None, 0)\n",
      "(3, 'score', 'INTEGER', 0, None, 0)\n",
      "\n",
      "\n"
     ]
    }
   ],
   "source": [
    "for table_name in table_names:\n",
    "    print(f\"Table: {table_name}\")\n",
    "    cursor.execute(f\"PRAGMA table_info('{table_name}')\")\n",
    "    for row in cursor.fetchall():\n",
    "        print(row)\n",
    "    print(\"\\n\")"
   ]
  },
  {
   "cell_type": "markdown",
   "metadata": {},
   "source": [
    "## Inserção de dados"
   ]
  },
  {
   "cell_type": "code",
   "execution_count": 5,
   "metadata": {},
   "outputs": [],
   "source": [
    "students_data = [\n",
    "    (1352, 'Howard Fields', 'University of California, Davis'),\n",
    "    (1801, 'Tyrone Doyle', 'Santa Clara University'),\n",
    "    (2079, 'Albert Burgess', 'Yale University'),\n",
    "    (2616, 'Patrick Hum', 'Bryn Mawr College'),\n",
    "    (3920, 'Diana Hum', 'Yale University'),\n",
    "    (4226, 'Eugene Rogers', 'Dartmouth College')\n",
    "]\n",
    "\n",
    "cursor.executemany('''\n",
    "INSERT INTO Students (id, name, college_name)\n",
    "VALUES (?, ?, ?)\n",
    "''', students_data)\n",
    "\n",
    "participations_data = [\n",
    "    (11853, 5746, 'Caribou Contest', 92),\n",
    "    (12114, 2616, 'Spelling Bee', 38),\n",
    "    (12267, 2079, 'Debate', 55),\n",
    "    (14036, 2079, 'Google Science Fair', 33),\n",
    "    (14149, 1801, 'Google Science Fair', 87),\n",
    "    (19674, 6698, 'RoboCup', 89),\n",
    "    (20769, 5746, 'RoboCup', 98),\n",
    "    (20718, 8721, 'Caribou Contest', 66),\n",
    "    (20847, 2616, 'Caribou Contest', 64)\n",
    "]\n",
    "\n",
    "cursor.executemany('''\n",
    "INSERT INTO Participations (participant_id, student_id, category, score)\n",
    "VALUES (?, ?, ?, ?)\n",
    "''', participations_data)\n",
    "\n",
    "conn.commit()\n"
   ]
  },
  {
   "cell_type": "code",
   "execution_count": 6,
   "metadata": {},
   "outputs": [
    {
     "name": "stdout",
     "output_type": "stream",
     "text": [
      "Table: Students\n",
      "(1352, 'Howard Fields', 'University of California, Davis')\n",
      "(1801, 'Tyrone Doyle', 'Santa Clara University')\n",
      "(2079, 'Albert Burgess', 'Yale University')\n",
      "(2616, 'Patrick Hum', 'Bryn Mawr College')\n",
      "(3920, 'Diana Hum', 'Yale University')\n",
      "(4226, 'Eugene Rogers', 'Dartmouth College')\n",
      "\n",
      "\n",
      "Table: Participations\n",
      "(11853, 5746, 'Caribou Contest', 92)\n",
      "(12114, 2616, 'Spelling Bee', 38)\n",
      "(12267, 2079, 'Debate', 55)\n",
      "(14036, 2079, 'Google Science Fair', 33)\n",
      "(14149, 1801, 'Google Science Fair', 87)\n",
      "(19674, 6698, 'RoboCup', 89)\n",
      "(20718, 8721, 'Caribou Contest', 66)\n",
      "(20769, 5746, 'RoboCup', 98)\n",
      "(20847, 2616, 'Caribou Contest', 64)\n",
      "\n",
      "\n"
     ]
    }
   ],
   "source": [
    "for table_name in table_names:\n",
    "    print(f\"Table: {table_name}\")\n",
    "    cursor.execute(f\"SELECT * FROM {table_name}\")\n",
    "    for row in cursor.fetchall():\n",
    "        print(row)\n",
    "    print(\"\\n\")"
   ]
  },
  {
   "cell_type": "markdown",
   "metadata": {},
   "source": [
    "## Consulta"
   ]
  },
  {
   "cell_type": "code",
   "execution_count": 7,
   "metadata": {},
   "outputs": [],
   "source": [
    "query = '''\n",
    "WITH Ranked_Participations AS (\n",
    "    SELECT\n",
    "        p.category,\n",
    "        p.student_id,\n",
    "        s.name,\n",
    "        s.college_name,\n",
    "        p.score,\n",
    "        ROW_NUMBER() OVER (PARTITION BY p.category ORDER BY p.score DESC, s.college_name ASC) AS rank\n",
    "    FROM\n",
    "        Participations p\n",
    "    JOIN\n",
    "        Students s ON p.student_id = s.id\n",
    ")\n",
    "SELECT\n",
    "    category,\n",
    "    student_id,\n",
    "    name,\n",
    "    college_name,\n",
    "    score\n",
    "FROM\n",
    "    Ranked_Participations\n",
    "WHERE\n",
    "    rank <= 3\n",
    "ORDER BY\n",
    "    category ASC,\n",
    "    score DESC\n",
    "'''\n",
    "\n",
    "cursor.execute(query)\n",
    "results = cursor.fetchall()\n"
   ]
  },
  {
   "cell_type": "markdown",
   "metadata": {},
   "source": [
    "### Exibição dos dados em formato de dataframe (com pandas) para facilitar visualização."
   ]
  },
  {
   "cell_type": "code",
   "execution_count": 8,
   "metadata": {},
   "outputs": [
    {
     "name": "stdout",
     "output_type": "stream",
     "text": [
      "              Category  Student ID            Name            College Name  Score\n",
      "0      Caribou Contest        2616     Patrick Hum       Bryn Mawr College     64\n",
      "1               Debate        2079  Albert Burgess         Yale University     55\n",
      "2  Google Science Fair        1801    Tyrone Doyle  Santa Clara University     87\n",
      "3  Google Science Fair        2079  Albert Burgess         Yale University     33\n",
      "4         Spelling Bee        2616     Patrick Hum       Bryn Mawr College     38\n"
     ]
    }
   ],
   "source": [
    "import pandas as pd\n",
    "pd.set_option('display.expand_frame_repr', False)\n",
    "df = pd.DataFrame(results, columns=['Category', 'Student ID', 'Name', 'College Name', 'Score'])\n",
    "print(df)"
   ]
  },
  {
   "cell_type": "code",
   "execution_count": 9,
   "metadata": {},
   "outputs": [],
   "source": [
    "conn.close()"
   ]
  }
 ],
 "metadata": {
  "kernelspec": {
   "display_name": "Python 3",
   "language": "python",
   "name": "python3"
  },
  "language_info": {
   "codemirror_mode": {
    "name": "ipython",
    "version": 3
   },
   "file_extension": ".py",
   "mimetype": "text/x-python",
   "name": "python",
   "nbconvert_exporter": "python",
   "pygments_lexer": "ipython3",
   "version": "3.11.2"
  }
 },
 "nbformat": 4,
 "nbformat_minor": 2
}
